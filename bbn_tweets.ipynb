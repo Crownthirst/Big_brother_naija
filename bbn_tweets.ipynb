{
 "cells": [
  {
   "cell_type": "code",
   "execution_count": null,
   "id": "d5019379",
   "metadata": {},
   "outputs": [],
   "source": [
    "!pip3 install git+https://github.com/JustAnotherArchivist/snscrape.git"
   ]
  },
  {
   "cell_type": "code",
   "execution_count": 1,
   "id": "502e6998",
   "metadata": {},
   "outputs": [],
   "source": [
    "import snscrape.modules.twitter as sntwitter\n",
    "import pandas as pd"
   ]
  },
  {
   "cell_type": "code",
   "execution_count": 2,
   "id": "cd1b5c89",
   "metadata": {},
   "outputs": [
    {
     "name": "stderr",
     "output_type": "stream",
     "text": [
      "<ipython-input-2-29d6f6667cf4>:8: FutureWarning: content is deprecated, use rawContent instead\n",
      "  bbn_tweets.append([tweet.date, tweet.id, tweet.content, tweet.user.username, tweet.user.location, tweet.source])\n",
      "Unsupported unified_card type on tweet 1573171664946601985\n"
     ]
    }
   ],
   "source": [
    "# Creating list to append tweet data to\n",
    "bbn_tweets = []\n",
    "search = '#BBNaija since:2022-07-24 until:2022-09-26'\n",
    "\n",
    "for i,tweet in enumerate(sntwitter.TwitterSearchScraper(search).get_items()):\n",
    "    if i>150000:\n",
    "        break\n",
    "    bbn_tweets.append([tweet.date, tweet.id, tweet.content, tweet.user.username, tweet.user.location, tweet.source])\n"
   ]
  },
  {
   "cell_type": "code",
   "execution_count": 3,
   "id": "0646ad42",
   "metadata": {},
   "outputs": [],
   "source": [
    "# Creating a dataframe from the tweets list above\n",
    "df = pd.DataFrame(bbn_tweets, columns=['Datetime', 'TweetId', 'Text', 'Username', 'Location', 'TweetSource'])"
   ]
  },
  {
   "cell_type": "code",
   "execution_count": 4,
   "id": "dfbd6e4f",
   "metadata": {},
   "outputs": [
    {
     "name": "stdout",
     "output_type": "stream",
     "text": [
      "<class 'pandas.core.frame.DataFrame'>\n",
      "RangeIndex: 150001 entries, 0 to 150000\n",
      "Data columns (total 6 columns):\n",
      " #   Column       Non-Null Count   Dtype              \n",
      "---  ------       --------------   -----              \n",
      " 0   Datetime     150001 non-null  datetime64[ns, UTC]\n",
      " 1   TweetId      150001 non-null  int64              \n",
      " 2   Text         150001 non-null  object             \n",
      " 3   Username     150001 non-null  object             \n",
      " 4   Location     150001 non-null  object             \n",
      " 5   TweetSource  150001 non-null  object             \n",
      "dtypes: datetime64[ns, UTC](1), int64(1), object(4)\n",
      "memory usage: 6.9+ MB\n"
     ]
    }
   ],
   "source": [
    "df.info()"
   ]
  },
  {
   "cell_type": "code",
   "execution_count": 5,
   "id": "16ed8fe8",
   "metadata": {},
   "outputs": [
    {
     "data": {
      "text/html": [
       "<div>\n",
       "<style scoped>\n",
       "    .dataframe tbody tr th:only-of-type {\n",
       "        vertical-align: middle;\n",
       "    }\n",
       "\n",
       "    .dataframe tbody tr th {\n",
       "        vertical-align: top;\n",
       "    }\n",
       "\n",
       "    .dataframe thead th {\n",
       "        text-align: right;\n",
       "    }\n",
       "</style>\n",
       "<table border=\"1\" class=\"dataframe\">\n",
       "  <thead>\n",
       "    <tr style=\"text-align: right;\">\n",
       "      <th></th>\n",
       "      <th>Datetime</th>\n",
       "      <th>TweetId</th>\n",
       "      <th>Text</th>\n",
       "      <th>Username</th>\n",
       "      <th>Location</th>\n",
       "      <th>TweetSource</th>\n",
       "    </tr>\n",
       "  </thead>\n",
       "  <tbody>\n",
       "    <tr>\n",
       "      <th>0</th>\n",
       "      <td>2022-09-25 23:59:47+00:00</td>\n",
       "      <td>1574186935689568256</td>\n",
       "      <td>God pls run this for us🙏🙏 #BBNaija  pls I’m be...</td>\n",
       "      <td>Bella100M</td>\n",
       "      <td></td>\n",
       "      <td>&lt;a href=\"http://twitter.com/download/iphone\" r...</td>\n",
       "    </tr>\n",
       "    <tr>\n",
       "      <th>1</th>\n",
       "      <td>2022-09-25 23:59:45+00:00</td>\n",
       "      <td>1574186930471944194</td>\n",
       "      <td>What the audience did was so wrong on all leve...</td>\n",
       "      <td>MRS_CHRISTA_</td>\n",
       "      <td>Nigeria</td>\n",
       "      <td>&lt;a href=\"http://twitter.com/download/android\" ...</td>\n",
       "    </tr>\n",
       "    <tr>\n",
       "      <th>2</th>\n",
       "      <td>2022-09-25 23:59:43+00:00</td>\n",
       "      <td>1574186922473291776</td>\n",
       "      <td>My son just asked me, \"Mummy did Bella survive...</td>\n",
       "      <td>katzphiona</td>\n",
       "      <td></td>\n",
       "      <td>&lt;a href=\"https://mobile.twitter.com\" rel=\"nofo...</td>\n",
       "    </tr>\n",
       "    <tr>\n",
       "      <th>3</th>\n",
       "      <td>2022-09-25 23:59:42+00:00</td>\n",
       "      <td>1574186916471222272</td>\n",
       "      <td>I think Ebuka should let Bella host their reun...</td>\n",
       "      <td>Reina_chuks</td>\n",
       "      <td></td>\n",
       "      <td>&lt;a href=\"http://twitter.com/download/android\" ...</td>\n",
       "    </tr>\n",
       "    <tr>\n",
       "      <th>4</th>\n",
       "      <td>2022-09-25 23:59:33+00:00</td>\n",
       "      <td>1574186878710206465</td>\n",
       "      <td>#Rebellz una too much let's seal the deal by b...</td>\n",
       "      <td>EkineAyebabomo</td>\n",
       "      <td></td>\n",
       "      <td>&lt;a href=\"http://twitter.com/download/android\" ...</td>\n",
       "    </tr>\n",
       "  </tbody>\n",
       "</table>\n",
       "</div>"
      ],
      "text/plain": [
       "                   Datetime              TweetId  \\\n",
       "0 2022-09-25 23:59:47+00:00  1574186935689568256   \n",
       "1 2022-09-25 23:59:45+00:00  1574186930471944194   \n",
       "2 2022-09-25 23:59:43+00:00  1574186922473291776   \n",
       "3 2022-09-25 23:59:42+00:00  1574186916471222272   \n",
       "4 2022-09-25 23:59:33+00:00  1574186878710206465   \n",
       "\n",
       "                                                Text        Username Location  \\\n",
       "0  God pls run this for us🙏🙏 #BBNaija  pls I’m be...       Bella100M            \n",
       "1  What the audience did was so wrong on all leve...    MRS_CHRISTA_  Nigeria   \n",
       "2  My son just asked me, \"Mummy did Bella survive...      katzphiona            \n",
       "3  I think Ebuka should let Bella host their reun...     Reina_chuks            \n",
       "4  #Rebellz una too much let's seal the deal by b...  EkineAyebabomo            \n",
       "\n",
       "                                         TweetSource  \n",
       "0  <a href=\"http://twitter.com/download/iphone\" r...  \n",
       "1  <a href=\"http://twitter.com/download/android\" ...  \n",
       "2  <a href=\"https://mobile.twitter.com\" rel=\"nofo...  \n",
       "3  <a href=\"http://twitter.com/download/android\" ...  \n",
       "4  <a href=\"http://twitter.com/download/android\" ...  "
      ]
     },
     "execution_count": 5,
     "metadata": {},
     "output_type": "execute_result"
    }
   ],
   "source": [
    "df.head()"
   ]
  },
  {
   "cell_type": "code",
   "execution_count": 6,
   "id": "5aed620d",
   "metadata": {},
   "outputs": [],
   "source": [
    "df['TweetSource'] = df['TweetSource'].str.extract('^<a.+>(.+)</a>$')"
   ]
  },
  {
   "cell_type": "code",
   "execution_count": 7,
   "id": "df47ce2d",
   "metadata": {},
   "outputs": [
    {
     "data": {
      "text/html": [
       "<div>\n",
       "<style scoped>\n",
       "    .dataframe tbody tr th:only-of-type {\n",
       "        vertical-align: middle;\n",
       "    }\n",
       "\n",
       "    .dataframe tbody tr th {\n",
       "        vertical-align: top;\n",
       "    }\n",
       "\n",
       "    .dataframe thead th {\n",
       "        text-align: right;\n",
       "    }\n",
       "</style>\n",
       "<table border=\"1\" class=\"dataframe\">\n",
       "  <thead>\n",
       "    <tr style=\"text-align: right;\">\n",
       "      <th></th>\n",
       "      <th>Datetime</th>\n",
       "      <th>TweetId</th>\n",
       "      <th>Text</th>\n",
       "      <th>Username</th>\n",
       "      <th>Location</th>\n",
       "      <th>TweetSource</th>\n",
       "    </tr>\n",
       "  </thead>\n",
       "  <tbody>\n",
       "    <tr>\n",
       "      <th>0</th>\n",
       "      <td>2022-09-25 23:59:47+00:00</td>\n",
       "      <td>1574186935689568256</td>\n",
       "      <td>God pls run this for us🙏🙏 #BBNaija  pls I’m be...</td>\n",
       "      <td>Bella100M</td>\n",
       "      <td></td>\n",
       "      <td>Twitter for iPhone</td>\n",
       "    </tr>\n",
       "    <tr>\n",
       "      <th>1</th>\n",
       "      <td>2022-09-25 23:59:45+00:00</td>\n",
       "      <td>1574186930471944194</td>\n",
       "      <td>What the audience did was so wrong on all leve...</td>\n",
       "      <td>MRS_CHRISTA_</td>\n",
       "      <td>Nigeria</td>\n",
       "      <td>Twitter for Android</td>\n",
       "    </tr>\n",
       "    <tr>\n",
       "      <th>2</th>\n",
       "      <td>2022-09-25 23:59:43+00:00</td>\n",
       "      <td>1574186922473291776</td>\n",
       "      <td>My son just asked me, \"Mummy did Bella survive...</td>\n",
       "      <td>katzphiona</td>\n",
       "      <td></td>\n",
       "      <td>Twitter Web App</td>\n",
       "    </tr>\n",
       "    <tr>\n",
       "      <th>3</th>\n",
       "      <td>2022-09-25 23:59:42+00:00</td>\n",
       "      <td>1574186916471222272</td>\n",
       "      <td>I think Ebuka should let Bella host their reun...</td>\n",
       "      <td>Reina_chuks</td>\n",
       "      <td></td>\n",
       "      <td>Twitter for Android</td>\n",
       "    </tr>\n",
       "    <tr>\n",
       "      <th>4</th>\n",
       "      <td>2022-09-25 23:59:33+00:00</td>\n",
       "      <td>1574186878710206465</td>\n",
       "      <td>#Rebellz una too much let's seal the deal by b...</td>\n",
       "      <td>EkineAyebabomo</td>\n",
       "      <td></td>\n",
       "      <td>Twitter for Android</td>\n",
       "    </tr>\n",
       "  </tbody>\n",
       "</table>\n",
       "</div>"
      ],
      "text/plain": [
       "                   Datetime              TweetId  \\\n",
       "0 2022-09-25 23:59:47+00:00  1574186935689568256   \n",
       "1 2022-09-25 23:59:45+00:00  1574186930471944194   \n",
       "2 2022-09-25 23:59:43+00:00  1574186922473291776   \n",
       "3 2022-09-25 23:59:42+00:00  1574186916471222272   \n",
       "4 2022-09-25 23:59:33+00:00  1574186878710206465   \n",
       "\n",
       "                                                Text        Username Location  \\\n",
       "0  God pls run this for us🙏🙏 #BBNaija  pls I’m be...       Bella100M            \n",
       "1  What the audience did was so wrong on all leve...    MRS_CHRISTA_  Nigeria   \n",
       "2  My son just asked me, \"Mummy did Bella survive...      katzphiona            \n",
       "3  I think Ebuka should let Bella host their reun...     Reina_chuks            \n",
       "4  #Rebellz una too much let's seal the deal by b...  EkineAyebabomo            \n",
       "\n",
       "           TweetSource  \n",
       "0   Twitter for iPhone  \n",
       "1  Twitter for Android  \n",
       "2      Twitter Web App  \n",
       "3  Twitter for Android  \n",
       "4  Twitter for Android  "
      ]
     },
     "execution_count": 7,
     "metadata": {},
     "output_type": "execute_result"
    }
   ],
   "source": [
    "df.head()"
   ]
  },
  {
   "cell_type": "code",
   "execution_count": 9,
   "id": "fcef0750",
   "metadata": {},
   "outputs": [],
   "source": [
    "df.to_csv('bbn_tweets.csv', index= False)"
   ]
  }
 ],
 "metadata": {
  "kernelspec": {
   "display_name": "Python 3",
   "language": "python",
   "name": "python3"
  },
  "language_info": {
   "codemirror_mode": {
    "name": "ipython",
    "version": 3
   },
   "file_extension": ".py",
   "mimetype": "text/x-python",
   "name": "python",
   "nbconvert_exporter": "python",
   "pygments_lexer": "ipython3",
   "version": "3.8.0"
  }
 },
 "nbformat": 4,
 "nbformat_minor": 5
}
