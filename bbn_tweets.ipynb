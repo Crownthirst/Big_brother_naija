{
 "cells": [
  {
   "cell_type": "code",
   "execution_count": null,
   "id": "d5019379",
   "metadata": {},
   "outputs": [],
   "source": [
    "!pip3 install git+https://github.com/JustAnotherArchivist/snscrape.git"
   ]
  },
  {
   "cell_type": "code",
   "execution_count": 1,
   "id": "502e6998",
   "metadata": {},
   "outputs": [],
   "source": [
    "import snscrape.modules.twitter as sntwitter\n",
    "import pandas as pd\n",
    "import json\n",
    "import tweepy"
   ]
  },
  {
   "cell_type": "code",
   "execution_count": 2,
   "id": "cd1b5c89",
   "metadata": {},
   "outputs": [
    {
     "name": "stderr",
     "output_type": "stream",
     "text": [
      "<ipython-input-2-29d6f6667cf4>:8: FutureWarning: content is deprecated, use rawContent instead\n",
      "  bbn_tweets.append([tweet.date, tweet.id, tweet.content, tweet.user.username, tweet.user.location, tweet.source])\n",
      "Unsupported unified_card type on tweet 1573171664946601985\n"
     ]
    }
   ],
   "source": [
    "# Creating list to append tweet data to\n",
    "bbn_tweets = []\n",
    "search = '#BBNaija since:2022-07-24 until:2022-09-26'\n",
    "\n",
    "for i,tweet in enumerate(sntwitter.TwitterSearchScraper(search).get_items()):\n",
    "    if i>150000:\n",
    "        break\n",
    "    bbn_tweets.append([tweet.date, tweet.id, tweet.content, tweet.user.username, tweet.user.location, tweet.source])\n"
   ]
  },
  {
   "cell_type": "code",
   "execution_count": 3,
   "id": "0646ad42",
   "metadata": {},
   "outputs": [],
   "source": [
    "# Creating a dataframe from the tweets list above\n",
    "df = pd.DataFrame(bbn_tweets, columns=['Datetime', 'TweetId', 'Text', 'Username', 'Location', 'TweetSource'])"
   ]
  },
  {
   "cell_type": "code",
   "execution_count": 4,
   "id": "dfbd6e4f",
   "metadata": {},
   "outputs": [
    {
     "name": "stdout",
     "output_type": "stream",
     "text": [
      "<class 'pandas.core.frame.DataFrame'>\n",
      "RangeIndex: 150001 entries, 0 to 150000\n",
      "Data columns (total 6 columns):\n",
      " #   Column       Non-Null Count   Dtype              \n",
      "---  ------       --------------   -----              \n",
      " 0   Datetime     150001 non-null  datetime64[ns, UTC]\n",
      " 1   TweetId      150001 non-null  int64              \n",
      " 2   Text         150001 non-null  object             \n",
      " 3   Username     150001 non-null  object             \n",
      " 4   Location     150001 non-null  object             \n",
      " 5   TweetSource  150001 non-null  object             \n",
      "dtypes: datetime64[ns, UTC](1), int64(1), object(4)\n",
      "memory usage: 6.9+ MB\n"
     ]
    }
   ],
   "source": [
    "df.info()"
   ]
  },
  {
   "cell_type": "code",
   "execution_count": 5,
   "id": "16ed8fe8",
   "metadata": {},
   "outputs": [
    {
     "data": {
      "text/html": [
       "<div>\n",
       "<style scoped>\n",
       "    .dataframe tbody tr th:only-of-type {\n",
       "        vertical-align: middle;\n",
       "    }\n",
       "\n",
       "    .dataframe tbody tr th {\n",
       "        vertical-align: top;\n",
       "    }\n",
       "\n",
       "    .dataframe thead th {\n",
       "        text-align: right;\n",
       "    }\n",
       "</style>\n",
       "<table border=\"1\" class=\"dataframe\">\n",
       "  <thead>\n",
       "    <tr style=\"text-align: right;\">\n",
       "      <th></th>\n",
       "      <th>Datetime</th>\n",
       "      <th>TweetId</th>\n",
       "      <th>Text</th>\n",
       "      <th>Username</th>\n",
       "      <th>Location</th>\n",
       "      <th>TweetSource</th>\n",
       "    </tr>\n",
       "  </thead>\n",
       "  <tbody>\n",
       "    <tr>\n",
       "      <th>0</th>\n",
       "      <td>2022-09-25 23:59:47+00:00</td>\n",
       "      <td>1574186935689568256</td>\n",
       "      <td>God pls run this for us🙏🙏 #BBNaija  pls I’m be...</td>\n",
       "      <td>Bella100M</td>\n",
       "      <td></td>\n",
       "      <td>&lt;a href=\"http://twitter.com/download/iphone\" r...</td>\n",
       "    </tr>\n",
       "    <tr>\n",
       "      <th>1</th>\n",
       "      <td>2022-09-25 23:59:45+00:00</td>\n",
       "      <td>1574186930471944194</td>\n",
       "      <td>What the audience did was so wrong on all leve...</td>\n",
       "      <td>MRS_CHRISTA_</td>\n",
       "      <td>Nigeria</td>\n",
       "      <td>&lt;a href=\"http://twitter.com/download/android\" ...</td>\n",
       "    </tr>\n",
       "    <tr>\n",
       "      <th>2</th>\n",
       "      <td>2022-09-25 23:59:43+00:00</td>\n",
       "      <td>1574186922473291776</td>\n",
       "      <td>My son just asked me, \"Mummy did Bella survive...</td>\n",
       "      <td>katzphiona</td>\n",
       "      <td></td>\n",
       "      <td>&lt;a href=\"https://mobile.twitter.com\" rel=\"nofo...</td>\n",
       "    </tr>\n",
       "    <tr>\n",
       "      <th>3</th>\n",
       "      <td>2022-09-25 23:59:42+00:00</td>\n",
       "      <td>1574186916471222272</td>\n",
       "      <td>I think Ebuka should let Bella host their reun...</td>\n",
       "      <td>Reina_chuks</td>\n",
       "      <td></td>\n",
       "      <td>&lt;a href=\"http://twitter.com/download/android\" ...</td>\n",
       "    </tr>\n",
       "    <tr>\n",
       "      <th>4</th>\n",
       "      <td>2022-09-25 23:59:33+00:00</td>\n",
       "      <td>1574186878710206465</td>\n",
       "      <td>#Rebellz una too much let's seal the deal by b...</td>\n",
       "      <td>EkineAyebabomo</td>\n",
       "      <td></td>\n",
       "      <td>&lt;a href=\"http://twitter.com/download/android\" ...</td>\n",
       "    </tr>\n",
       "  </tbody>\n",
       "</table>\n",
       "</div>"
      ],
      "text/plain": [
       "                   Datetime              TweetId  \\\n",
       "0 2022-09-25 23:59:47+00:00  1574186935689568256   \n",
       "1 2022-09-25 23:59:45+00:00  1574186930471944194   \n",
       "2 2022-09-25 23:59:43+00:00  1574186922473291776   \n",
       "3 2022-09-25 23:59:42+00:00  1574186916471222272   \n",
       "4 2022-09-25 23:59:33+00:00  1574186878710206465   \n",
       "\n",
       "                                                Text        Username Location  \\\n",
       "0  God pls run this for us🙏🙏 #BBNaija  pls I’m be...       Bella100M            \n",
       "1  What the audience did was so wrong on all leve...    MRS_CHRISTA_  Nigeria   \n",
       "2  My son just asked me, \"Mummy did Bella survive...      katzphiona            \n",
       "3  I think Ebuka should let Bella host their reun...     Reina_chuks            \n",
       "4  #Rebellz una too much let's seal the deal by b...  EkineAyebabomo            \n",
       "\n",
       "                                         TweetSource  \n",
       "0  <a href=\"http://twitter.com/download/iphone\" r...  \n",
       "1  <a href=\"http://twitter.com/download/android\" ...  \n",
       "2  <a href=\"https://mobile.twitter.com\" rel=\"nofo...  \n",
       "3  <a href=\"http://twitter.com/download/android\" ...  \n",
       "4  <a href=\"http://twitter.com/download/android\" ...  "
      ]
     },
     "execution_count": 5,
     "metadata": {},
     "output_type": "execute_result"
    }
   ],
   "source": [
    "df.head()"
   ]
  },
  {
   "cell_type": "code",
   "execution_count": 6,
   "id": "5aed620d",
   "metadata": {},
   "outputs": [],
   "source": [
    "df['TweetSource'] = df['TweetSource'].str.extract('^<a.+>(.+)</a>$')"
   ]
  },
  {
   "cell_type": "code",
   "execution_count": 7,
   "id": "df47ce2d",
   "metadata": {},
   "outputs": [
    {
     "data": {
      "text/html": [
       "<div>\n",
       "<style scoped>\n",
       "    .dataframe tbody tr th:only-of-type {\n",
       "        vertical-align: middle;\n",
       "    }\n",
       "\n",
       "    .dataframe tbody tr th {\n",
       "        vertical-align: top;\n",
       "    }\n",
       "\n",
       "    .dataframe thead th {\n",
       "        text-align: right;\n",
       "    }\n",
       "</style>\n",
       "<table border=\"1\" class=\"dataframe\">\n",
       "  <thead>\n",
       "    <tr style=\"text-align: right;\">\n",
       "      <th></th>\n",
       "      <th>Datetime</th>\n",
       "      <th>TweetId</th>\n",
       "      <th>Text</th>\n",
       "      <th>Username</th>\n",
       "      <th>Location</th>\n",
       "      <th>TweetSource</th>\n",
       "    </tr>\n",
       "  </thead>\n",
       "  <tbody>\n",
       "    <tr>\n",
       "      <th>0</th>\n",
       "      <td>2022-09-25 23:59:47+00:00</td>\n",
       "      <td>1574186935689568256</td>\n",
       "      <td>God pls run this for us🙏🙏 #BBNaija  pls I’m be...</td>\n",
       "      <td>Bella100M</td>\n",
       "      <td></td>\n",
       "      <td>Twitter for iPhone</td>\n",
       "    </tr>\n",
       "    <tr>\n",
       "      <th>1</th>\n",
       "      <td>2022-09-25 23:59:45+00:00</td>\n",
       "      <td>1574186930471944194</td>\n",
       "      <td>What the audience did was so wrong on all leve...</td>\n",
       "      <td>MRS_CHRISTA_</td>\n",
       "      <td>Nigeria</td>\n",
       "      <td>Twitter for Android</td>\n",
       "    </tr>\n",
       "    <tr>\n",
       "      <th>2</th>\n",
       "      <td>2022-09-25 23:59:43+00:00</td>\n",
       "      <td>1574186922473291776</td>\n",
       "      <td>My son just asked me, \"Mummy did Bella survive...</td>\n",
       "      <td>katzphiona</td>\n",
       "      <td></td>\n",
       "      <td>Twitter Web App</td>\n",
       "    </tr>\n",
       "    <tr>\n",
       "      <th>3</th>\n",
       "      <td>2022-09-25 23:59:42+00:00</td>\n",
       "      <td>1574186916471222272</td>\n",
       "      <td>I think Ebuka should let Bella host their reun...</td>\n",
       "      <td>Reina_chuks</td>\n",
       "      <td></td>\n",
       "      <td>Twitter for Android</td>\n",
       "    </tr>\n",
       "    <tr>\n",
       "      <th>4</th>\n",
       "      <td>2022-09-25 23:59:33+00:00</td>\n",
       "      <td>1574186878710206465</td>\n",
       "      <td>#Rebellz una too much let's seal the deal by b...</td>\n",
       "      <td>EkineAyebabomo</td>\n",
       "      <td></td>\n",
       "      <td>Twitter for Android</td>\n",
       "    </tr>\n",
       "  </tbody>\n",
       "</table>\n",
       "</div>"
      ],
      "text/plain": [
       "                   Datetime              TweetId  \\\n",
       "0 2022-09-25 23:59:47+00:00  1574186935689568256   \n",
       "1 2022-09-25 23:59:45+00:00  1574186930471944194   \n",
       "2 2022-09-25 23:59:43+00:00  1574186922473291776   \n",
       "3 2022-09-25 23:59:42+00:00  1574186916471222272   \n",
       "4 2022-09-25 23:59:33+00:00  1574186878710206465   \n",
       "\n",
       "                                                Text        Username Location  \\\n",
       "0  God pls run this for us🙏🙏 #BBNaija  pls I’m be...       Bella100M            \n",
       "1  What the audience did was so wrong on all leve...    MRS_CHRISTA_  Nigeria   \n",
       "2  My son just asked me, \"Mummy did Bella survive...      katzphiona            \n",
       "3  I think Ebuka should let Bella host their reun...     Reina_chuks            \n",
       "4  #Rebellz una too much let's seal the deal by b...  EkineAyebabomo            \n",
       "\n",
       "           TweetSource  \n",
       "0   Twitter for iPhone  \n",
       "1  Twitter for Android  \n",
       "2      Twitter Web App  \n",
       "3  Twitter for Android  \n",
       "4  Twitter for Android  "
      ]
     },
     "execution_count": 7,
     "metadata": {},
     "output_type": "execute_result"
    }
   ],
   "source": [
    "df.head()"
   ]
  },
  {
   "cell_type": "code",
   "execution_count": 9,
   "id": "fcef0750",
   "metadata": {},
   "outputs": [],
   "source": [
    "df.to_csv('bbn_tweets.csv', index= False)"
   ]
  },
  {
   "cell_type": "markdown",
   "id": "fbf43464",
   "metadata": {},
   "source": [
    "### Update\n",
    "\n",
    "Add new columns to our data"
   ]
  },
  {
   "cell_type": "code",
   "execution_count": 2,
   "id": "f6d2f3e2",
   "metadata": {},
   "outputs": [],
   "source": [
    "df = pd.read_csv('bbn_tweets.csv')"
   ]
  },
  {
   "cell_type": "code",
   "execution_count": 11,
   "id": "1f1e1a8c",
   "metadata": {},
   "outputs": [],
   "source": [
    "#Set consumer key, secret, and access_token and secret\n",
    "#They will be hidden to comply with Twitter API rules\n",
    "consumer_key = 'xxxxxxxxxxxxxxxxxxxxxx'\n",
    "consumer_secret = 'xxxxxxxxxxxxxxxxxxxxxxx'\n",
    "access_token = 'xxxxxxxxxxxxxxxxxxxxxxxxxx'\n",
    "access_secret = 'xxxxxxxxxxxxxxxxxxxxxxxxxx'\n",
    "\n",
    "#Set Authentication\n",
    "auth = tweepy.OAuthHandler(consumer_key, consumer_secret)\n",
    "auth.set_access_token(access_token, access_secret)\n",
    "\n",
    "api = tweepy.API(auth, wait_on_rate_limit= True)"
   ]
  },
  {
   "cell_type": "code",
   "execution_count": 3,
   "id": "82e5edb1",
   "metadata": {},
   "outputs": [
    {
     "data": {
      "text/plain": [
       "\"\\n#Query Twitter's API for JSON data for each tweet id in the dataframe\\n\\nid_of_tweet = df.TweetId\\ncount = 0\\nfailed = {}\\n#Save output in a newline in a txt file\\nwith open('bbn_json.txt', mode= 'w') as outputfile:\\n    for idx in id_of_tweet:\\n        count += 1\\n        try:\\n            tweet = api.get_status(idx, tweet_mode= 'extended')\\n            json.dump(tweet._json, outputfile)\\n            outputfile.write('\\n')\\n        \\n        except tweepy.errors.TweepyException as e:\\n            print('No Data found')\\n            failed[idx] = e\\n            pass\\nprint(failed)\\n\""
      ]
     },
     "execution_count": 3,
     "metadata": {},
     "output_type": "execute_result"
    }
   ],
   "source": [
    "'''\n",
    "#Query Twitter's API for JSON data for each tweet id in the dataframe\n",
    "\n",
    "id_of_tweet = df.TweetId\n",
    "count = 0\n",
    "failed = {}\n",
    "#Save output in a newline in a txt file\n",
    "with open('bbn_json.txt', mode= 'w') as outputfile:\n",
    "    for idx in id_of_tweet:\n",
    "        count += 1\n",
    "        try:\n",
    "            tweet = api.get_status(idx, tweet_mode= 'extended')\n",
    "            json.dump(tweet._json, outputfile)\n",
    "            outputfile.write('\\n')\n",
    "        \n",
    "        except tweepy.errors.TweepyException as e:\n",
    "            print('No Data found')\n",
    "            failed[idx] = e\n",
    "            pass\n",
    "print(failed)\n",
    "'''"
   ]
  },
  {
   "cell_type": "code",
   "execution_count": 4,
   "id": "acf32dd1",
   "metadata": {},
   "outputs": [],
   "source": [
    "#extract relevant variables of interest into a list\n",
    "bbn_list = []\n",
    "with open('bbn_json.txt', mode= 'r') as json_file:\n",
    "    for text in json_file:\n",
    "        texts = json.loads(text)\n",
    "        TweetId = texts['id']\n",
    "        retweet_count = texts['retweet_count']\n",
    "        favorite_count = texts['favorite_count']\n",
    "        bbn_list.append({'TweetId' : TweetId,\n",
    "                       'retweet_count' : retweet_count,\n",
    "                       'favorite_count' : favorite_count})\n",
    "\n",
    "#convert list into a dataframe\n",
    "bbn_json = pd.DataFrame(bbn_list, columns = ['TweetId', 'retweet_count','favorite_count'])"
   ]
  },
  {
   "cell_type": "code",
   "execution_count": 5,
   "id": "0fab1f3c",
   "metadata": {},
   "outputs": [
    {
     "data": {
      "text/html": [
       "<div>\n",
       "<style scoped>\n",
       "    .dataframe tbody tr th:only-of-type {\n",
       "        vertical-align: middle;\n",
       "    }\n",
       "\n",
       "    .dataframe tbody tr th {\n",
       "        vertical-align: top;\n",
       "    }\n",
       "\n",
       "    .dataframe thead th {\n",
       "        text-align: right;\n",
       "    }\n",
       "</style>\n",
       "<table border=\"1\" class=\"dataframe\">\n",
       "  <thead>\n",
       "    <tr style=\"text-align: right;\">\n",
       "      <th></th>\n",
       "      <th>TweetId</th>\n",
       "      <th>retweet_count</th>\n",
       "      <th>favorite_count</th>\n",
       "    </tr>\n",
       "  </thead>\n",
       "  <tbody>\n",
       "  </tbody>\n",
       "</table>\n",
       "</div>"
      ],
      "text/plain": [
       "Empty DataFrame\n",
       "Columns: [TweetId, retweet_count, favorite_count]\n",
       "Index: []"
      ]
     },
     "execution_count": 5,
     "metadata": {},
     "output_type": "execute_result"
    }
   ],
   "source": [
    "bbn_json"
   ]
  },
  {
   "cell_type": "code",
   "execution_count": 13,
   "id": "11e30966",
   "metadata": {},
   "outputs": [],
   "source": [
    "#merge into one dataframe\n",
    "df = df.merge(bbn_json, on= 'TweetId', how= 'left')"
   ]
  },
  {
   "cell_type": "code",
   "execution_count": 14,
   "id": "f88f9fc0",
   "metadata": {},
   "outputs": [
    {
     "data": {
      "text/html": [
       "<div>\n",
       "<style scoped>\n",
       "    .dataframe tbody tr th:only-of-type {\n",
       "        vertical-align: middle;\n",
       "    }\n",
       "\n",
       "    .dataframe tbody tr th {\n",
       "        vertical-align: top;\n",
       "    }\n",
       "\n",
       "    .dataframe thead th {\n",
       "        text-align: right;\n",
       "    }\n",
       "</style>\n",
       "<table border=\"1\" class=\"dataframe\">\n",
       "  <thead>\n",
       "    <tr style=\"text-align: right;\">\n",
       "      <th></th>\n",
       "      <th>Datetime</th>\n",
       "      <th>TweetId</th>\n",
       "      <th>Text</th>\n",
       "      <th>Username</th>\n",
       "      <th>Location</th>\n",
       "      <th>TweetSource</th>\n",
       "      <th>retweet_count_x</th>\n",
       "      <th>favorite_count_x</th>\n",
       "      <th>Housemate</th>\n",
       "      <th>retweet_count_y</th>\n",
       "      <th>favorite_count_y</th>\n",
       "    </tr>\n",
       "  </thead>\n",
       "  <tbody>\n",
       "    <tr>\n",
       "      <th>0</th>\n",
       "      <td>2022-09-25 23:59:47+00:00</td>\n",
       "      <td>1574186935689568256</td>\n",
       "      <td>God pls run this for us🙏🙏 #BBNaija  pls I’m be...</td>\n",
       "      <td>Bella100M</td>\n",
       "      <td>NaN</td>\n",
       "      <td>Twitter for iPhone</td>\n",
       "      <td>3.0</td>\n",
       "      <td>8.0</td>\n",
       "      <td>Bella</td>\n",
       "      <td>3.0</td>\n",
       "      <td>8.0</td>\n",
       "    </tr>\n",
       "    <tr>\n",
       "      <th>1</th>\n",
       "      <td>2022-09-25 23:59:45+00:00</td>\n",
       "      <td>1574186930471944194</td>\n",
       "      <td>What the audience did was so wrong on all leve...</td>\n",
       "      <td>MRS_CHRISTA_</td>\n",
       "      <td>Nigeria</td>\n",
       "      <td>Twitter for Android</td>\n",
       "      <td>4.0</td>\n",
       "      <td>28.0</td>\n",
       "      <td>Sheggz</td>\n",
       "      <td>4.0</td>\n",
       "      <td>28.0</td>\n",
       "    </tr>\n",
       "    <tr>\n",
       "      <th>2</th>\n",
       "      <td>2022-09-25 23:59:43+00:00</td>\n",
       "      <td>1574186922473291776</td>\n",
       "      <td>My son just asked me, \"Mummy did Bella survive...</td>\n",
       "      <td>katzphiona</td>\n",
       "      <td>NaN</td>\n",
       "      <td>Twitter Web App</td>\n",
       "      <td>97.0</td>\n",
       "      <td>966.0</td>\n",
       "      <td>Bella</td>\n",
       "      <td>97.0</td>\n",
       "      <td>966.0</td>\n",
       "    </tr>\n",
       "    <tr>\n",
       "      <th>3</th>\n",
       "      <td>2022-09-25 23:59:42+00:00</td>\n",
       "      <td>1574186916471222272</td>\n",
       "      <td>I think Ebuka should let Bella host their reun...</td>\n",
       "      <td>Reina_chuks</td>\n",
       "      <td>NaN</td>\n",
       "      <td>Twitter for Android</td>\n",
       "      <td>10.0</td>\n",
       "      <td>94.0</td>\n",
       "      <td>Bella</td>\n",
       "      <td>10.0</td>\n",
       "      <td>94.0</td>\n",
       "    </tr>\n",
       "    <tr>\n",
       "      <th>4</th>\n",
       "      <td>2022-09-25 23:59:33+00:00</td>\n",
       "      <td>1574186878710206465</td>\n",
       "      <td>#Rebellz una too much let's seal the deal by b...</td>\n",
       "      <td>EkineAyebabomo</td>\n",
       "      <td>NaN</td>\n",
       "      <td>Twitter for Android</td>\n",
       "      <td>4.0</td>\n",
       "      <td>28.0</td>\n",
       "      <td>Bella</td>\n",
       "      <td>4.0</td>\n",
       "      <td>28.0</td>\n",
       "    </tr>\n",
       "  </tbody>\n",
       "</table>\n",
       "</div>"
      ],
      "text/plain": [
       "                    Datetime              TweetId  \\\n",
       "0  2022-09-25 23:59:47+00:00  1574186935689568256   \n",
       "1  2022-09-25 23:59:45+00:00  1574186930471944194   \n",
       "2  2022-09-25 23:59:43+00:00  1574186922473291776   \n",
       "3  2022-09-25 23:59:42+00:00  1574186916471222272   \n",
       "4  2022-09-25 23:59:33+00:00  1574186878710206465   \n",
       "\n",
       "                                                Text        Username Location  \\\n",
       "0  God pls run this for us🙏🙏 #BBNaija  pls I’m be...       Bella100M      NaN   \n",
       "1  What the audience did was so wrong on all leve...    MRS_CHRISTA_  Nigeria   \n",
       "2  My son just asked me, \"Mummy did Bella survive...      katzphiona      NaN   \n",
       "3  I think Ebuka should let Bella host their reun...     Reina_chuks      NaN   \n",
       "4  #Rebellz una too much let's seal the deal by b...  EkineAyebabomo      NaN   \n",
       "\n",
       "           TweetSource  retweet_count_x  favorite_count_x Housemate  \\\n",
       "0   Twitter for iPhone              3.0               8.0     Bella   \n",
       "1  Twitter for Android              4.0              28.0    Sheggz   \n",
       "2      Twitter Web App             97.0             966.0     Bella   \n",
       "3  Twitter for Android             10.0              94.0     Bella   \n",
       "4  Twitter for Android              4.0              28.0     Bella   \n",
       "\n",
       "   retweet_count_y  favorite_count_y  \n",
       "0              3.0               8.0  \n",
       "1              4.0              28.0  \n",
       "2             97.0             966.0  \n",
       "3             10.0              94.0  \n",
       "4              4.0              28.0  "
      ]
     },
     "execution_count": 14,
     "metadata": {},
     "output_type": "execute_result"
    }
   ],
   "source": [
    "df.head()"
   ]
  },
  {
   "cell_type": "code",
   "execution_count": 15,
   "id": "3959299a",
   "metadata": {},
   "outputs": [
    {
     "name": "stdout",
     "output_type": "stream",
     "text": [
      "<class 'pandas.core.frame.DataFrame'>\n",
      "Int64Index: 150001 entries, 0 to 150000\n",
      "Data columns (total 11 columns):\n",
      " #   Column            Non-Null Count   Dtype  \n",
      "---  ------            --------------   -----  \n",
      " 0   Datetime          150001 non-null  object \n",
      " 1   TweetId           150001 non-null  int64  \n",
      " 2   Text              150001 non-null  object \n",
      " 3   Username          150001 non-null  object \n",
      " 4   Location          80214 non-null   object \n",
      " 5   TweetSource       150001 non-null  object \n",
      " 6   retweet_count_x   88619 non-null   float64\n",
      " 7   favorite_count_x  88619 non-null   float64\n",
      " 8   Housemate         71616 non-null   object \n",
      " 9   retweet_count_y   88619 non-null   float64\n",
      " 10  favorite_count_y  88619 non-null   float64\n",
      "dtypes: float64(4), int64(1), object(6)\n",
      "memory usage: 13.7+ MB\n"
     ]
    }
   ],
   "source": [
    "df.info()"
   ]
  },
  {
   "cell_type": "code",
   "execution_count": 32,
   "id": "b333e3c8",
   "metadata": {},
   "outputs": [],
   "source": [
    "names = ['Beauty', 'Amaka', 'Groovy', 'Phyna', 'Christy O', 'Cyph', 'Ilebaye', 'Khalid', 'Kess', 'Pharmsavi', 'Modella',\n",
    "            'Chizzy', 'Deji', 'Allysyn', 'Doyin', 'Dotun', 'Eloswag', 'Chomzy', 'Diana', 'Daniella', 'Hermes', 'Chichi',\n",
    "            'Adekunle','Rachael', 'Rachel', 'Sheggz', 'Bella', 'Bryann', 'Giddyfia', 'beauty', 'amaka', 'groovy', 'phyna', \n",
    "         'modella', 'deji', 'Allyson', 'doyin', 'eloswag', 'dotun', 'kess', 'pharmsavi', 'cyph', 'khalid', 'christy o', 'ilebaye',\n",
    "        'hermes', 'chizzy', 'diana', 'daniella', 'chichi', 'chi chi', 'adekunle', 'bella', 'giddyfia', 'bryann', 'sheggz', 'rachel',\n",
    "        'rachael', 'Racheal', 'racheal', 'allysyn', 'allyson', 'Chi Chi', 'CHI CHI', 'BELLA','DANIELLA', 'BRYANN', 'KHALID','PHYNA',\n",
    "        'ADEKUNLE', 'HERMES', \"DOYIN\", 'BEAUTY', 'AMAKA', 'GROOVY', 'ILEBAYE', 'KESS','PHARMSAVI','MODELLA', 'CHIZZY','DEJI', 'CHOMZY',\n",
    "        'ELOSWAG', 'GIDDYFIA']"
   ]
  },
  {
   "cell_type": "code",
   "execution_count": 33,
   "id": "46debf2b",
   "metadata": {},
   "outputs": [],
   "source": [
    "pattern = r\"(?:^|\\s+)(\" + \"|\".join(names) + r\")(?:\\s+|$)\"\n",
    "df[\"Housemate\"] = df.Text.str.extract(pattern, expand=False)"
   ]
  },
  {
   "cell_type": "code",
   "execution_count": 34,
   "id": "48a77ddf",
   "metadata": {},
   "outputs": [
    {
     "data": {
      "text/html": [
       "<div>\n",
       "<style scoped>\n",
       "    .dataframe tbody tr th:only-of-type {\n",
       "        vertical-align: middle;\n",
       "    }\n",
       "\n",
       "    .dataframe tbody tr th {\n",
       "        vertical-align: top;\n",
       "    }\n",
       "\n",
       "    .dataframe thead th {\n",
       "        text-align: right;\n",
       "    }\n",
       "</style>\n",
       "<table border=\"1\" class=\"dataframe\">\n",
       "  <thead>\n",
       "    <tr style=\"text-align: right;\">\n",
       "      <th></th>\n",
       "      <th>Datetime</th>\n",
       "      <th>TweetId</th>\n",
       "      <th>Text</th>\n",
       "      <th>Username</th>\n",
       "      <th>Location</th>\n",
       "      <th>TweetSource</th>\n",
       "      <th>retweet_count_x</th>\n",
       "      <th>favorite_count_x</th>\n",
       "      <th>Housemate</th>\n",
       "      <th>retweet_count_y</th>\n",
       "      <th>favorite_count_y</th>\n",
       "    </tr>\n",
       "  </thead>\n",
       "  <tbody>\n",
       "    <tr>\n",
       "      <th>0</th>\n",
       "      <td>2022-09-25 23:59:47+00:00</td>\n",
       "      <td>1574186935689568256</td>\n",
       "      <td>God pls run this for us🙏🙏 #BBNaija  pls I’m be...</td>\n",
       "      <td>Bella100M</td>\n",
       "      <td>NaN</td>\n",
       "      <td>Twitter for iPhone</td>\n",
       "      <td>3.0</td>\n",
       "      <td>8.0</td>\n",
       "      <td>Bella</td>\n",
       "      <td>3.0</td>\n",
       "      <td>8.0</td>\n",
       "    </tr>\n",
       "    <tr>\n",
       "      <th>1</th>\n",
       "      <td>2022-09-25 23:59:45+00:00</td>\n",
       "      <td>1574186930471944194</td>\n",
       "      <td>What the audience did was so wrong on all leve...</td>\n",
       "      <td>MRS_CHRISTA_</td>\n",
       "      <td>Nigeria</td>\n",
       "      <td>Twitter for Android</td>\n",
       "      <td>4.0</td>\n",
       "      <td>28.0</td>\n",
       "      <td>Sheggz</td>\n",
       "      <td>4.0</td>\n",
       "      <td>28.0</td>\n",
       "    </tr>\n",
       "    <tr>\n",
       "      <th>2</th>\n",
       "      <td>2022-09-25 23:59:43+00:00</td>\n",
       "      <td>1574186922473291776</td>\n",
       "      <td>My son just asked me, \"Mummy did Bella survive...</td>\n",
       "      <td>katzphiona</td>\n",
       "      <td>NaN</td>\n",
       "      <td>Twitter Web App</td>\n",
       "      <td>97.0</td>\n",
       "      <td>966.0</td>\n",
       "      <td>Bella</td>\n",
       "      <td>97.0</td>\n",
       "      <td>966.0</td>\n",
       "    </tr>\n",
       "    <tr>\n",
       "      <th>3</th>\n",
       "      <td>2022-09-25 23:59:42+00:00</td>\n",
       "      <td>1574186916471222272</td>\n",
       "      <td>I think Ebuka should let Bella host their reun...</td>\n",
       "      <td>Reina_chuks</td>\n",
       "      <td>NaN</td>\n",
       "      <td>Twitter for Android</td>\n",
       "      <td>10.0</td>\n",
       "      <td>94.0</td>\n",
       "      <td>Bella</td>\n",
       "      <td>10.0</td>\n",
       "      <td>94.0</td>\n",
       "    </tr>\n",
       "    <tr>\n",
       "      <th>4</th>\n",
       "      <td>2022-09-25 23:59:33+00:00</td>\n",
       "      <td>1574186878710206465</td>\n",
       "      <td>#Rebellz una too much let's seal the deal by b...</td>\n",
       "      <td>EkineAyebabomo</td>\n",
       "      <td>NaN</td>\n",
       "      <td>Twitter for Android</td>\n",
       "      <td>4.0</td>\n",
       "      <td>28.0</td>\n",
       "      <td>Bella</td>\n",
       "      <td>4.0</td>\n",
       "      <td>28.0</td>\n",
       "    </tr>\n",
       "  </tbody>\n",
       "</table>\n",
       "</div>"
      ],
      "text/plain": [
       "                    Datetime              TweetId  \\\n",
       "0  2022-09-25 23:59:47+00:00  1574186935689568256   \n",
       "1  2022-09-25 23:59:45+00:00  1574186930471944194   \n",
       "2  2022-09-25 23:59:43+00:00  1574186922473291776   \n",
       "3  2022-09-25 23:59:42+00:00  1574186916471222272   \n",
       "4  2022-09-25 23:59:33+00:00  1574186878710206465   \n",
       "\n",
       "                                                Text        Username Location  \\\n",
       "0  God pls run this for us🙏🙏 #BBNaija  pls I’m be...       Bella100M      NaN   \n",
       "1  What the audience did was so wrong on all leve...    MRS_CHRISTA_  Nigeria   \n",
       "2  My son just asked me, \"Mummy did Bella survive...      katzphiona      NaN   \n",
       "3  I think Ebuka should let Bella host their reun...     Reina_chuks      NaN   \n",
       "4  #Rebellz una too much let's seal the deal by b...  EkineAyebabomo      NaN   \n",
       "\n",
       "           TweetSource  retweet_count_x  favorite_count_x Housemate  \\\n",
       "0   Twitter for iPhone              3.0               8.0     Bella   \n",
       "1  Twitter for Android              4.0              28.0    Sheggz   \n",
       "2      Twitter Web App             97.0             966.0     Bella   \n",
       "3  Twitter for Android             10.0              94.0     Bella   \n",
       "4  Twitter for Android              4.0              28.0     Bella   \n",
       "\n",
       "   retweet_count_y  favorite_count_y  \n",
       "0              3.0               8.0  \n",
       "1              4.0              28.0  \n",
       "2             97.0             966.0  \n",
       "3             10.0              94.0  \n",
       "4              4.0              28.0  "
      ]
     },
     "execution_count": 34,
     "metadata": {},
     "output_type": "execute_result"
    }
   ],
   "source": [
    "df.head()"
   ]
  },
  {
   "cell_type": "code",
   "execution_count": 35,
   "id": "6c379592",
   "metadata": {},
   "outputs": [
    {
     "name": "stdout",
     "output_type": "stream",
     "text": [
      "<class 'pandas.core.frame.DataFrame'>\n",
      "Int64Index: 150001 entries, 0 to 150000\n",
      "Data columns (total 11 columns):\n",
      " #   Column            Non-Null Count   Dtype  \n",
      "---  ------            --------------   -----  \n",
      " 0   Datetime          150001 non-null  object \n",
      " 1   TweetId           150001 non-null  int64  \n",
      " 2   Text              150001 non-null  object \n",
      " 3   Username          150001 non-null  object \n",
      " 4   Location          80214 non-null   object \n",
      " 5   TweetSource       150001 non-null  object \n",
      " 6   retweet_count_x   88619 non-null   float64\n",
      " 7   favorite_count_x  88619 non-null   float64\n",
      " 8   Housemate         82621 non-null   object \n",
      " 9   retweet_count_y   88619 non-null   float64\n",
      " 10  favorite_count_y  88619 non-null   float64\n",
      "dtypes: float64(4), int64(1), object(6)\n",
      "memory usage: 13.7+ MB\n"
     ]
    }
   ],
   "source": [
    "df.info()"
   ]
  },
  {
   "cell_type": "code",
   "execution_count": 36,
   "id": "3efaac26",
   "metadata": {},
   "outputs": [
    {
     "data": {
      "text/plain": [
       "array(['Bella', 'Sheggz', 'Adekunle', nan, 'Ilebaye', 'Groovy', 'Hermes',\n",
       "       'Beauty', 'Bryann', 'BELLA', 'Chichi', 'CHI CHI', 'Phyna',\n",
       "       'chichi', 'Doyin', 'bella', 'phyna', 'sheggz', 'adekunle',\n",
       "       'chi chi', 'bryann', 'PHYNA', 'KHALID', 'Khalid', 'BRYANN',\n",
       "       'modella', 'Chomzy', 'Dotun', 'Rachel', 'DANIELLA', 'ADEKUNLE',\n",
       "       'Daniella', 'chizzy', 'groovy', 'Modella', 'Cyph', 'hermes',\n",
       "       'Deji', 'Amaka', 'Chizzy', 'Rachael', 'Racheal', 'Chi Chi', 'deji',\n",
       "       'beauty', 'daniella', 'cyph', 'Allysyn', 'khalid', 'Allyson',\n",
       "       'HERMES', 'DOYIN', 'doyin', 'Eloswag', 'rachel', 'Diana', 'dotun',\n",
       "       'amaka', 'racheal', 'eloswag', 'Pharmsavi', 'allysyn', 'Christy O',\n",
       "       'Giddyfia', 'pharmsavi', 'rachael', 'Kess', 'ilebaye', 'allyson',\n",
       "       'kess', 'christy o', 'giddyfia'], dtype=object)"
      ]
     },
     "execution_count": 36,
     "metadata": {},
     "output_type": "execute_result"
    }
   ],
   "source": [
    "df['Housemate'].unique()"
   ]
  },
  {
   "cell_type": "code",
   "execution_count": 37,
   "id": "9f22cf55",
   "metadata": {},
   "outputs": [],
   "source": [
    "#standardize names\n",
    "df['Housemate'] = df['Housemate'].replace({'bella' : 'Bella', 'sheggz': 'Sheggz', 'adekunle' : 'Adekunle', 'ilebaye' : 'Ilebaye',\n",
    "                                          'groovy':'Groovy', 'hermes' : 'Hermes', 'beauty':'Beauty', 'bryann' : 'Bryann', 'chichi':'Chichi',\n",
    "                                          'phyna':'Phyna','doyin':'Doyin', 'chi chi': 'Chichi','khalid':'Khalid','modella':'Modella','chomzy':'Chomzy',\n",
    "                                          'dotun':'Dotun','Rachael':'Rachel', 'daniella':'Daniella', 'chizzy':'Chizzy','cyph':'Cyph','deji':'Deji', 'Allyson':'Allysyn',\n",
    "                                          'eloswag':'Eloswag', 'diana':'Diana', 'amaka':'Amaka', 'pharmsavi': 'Pharmsavi', 'kess':'Kess', 'christy o': 'Christy O',\n",
    "                                          'giddyfia':'Giddyfia', 'rachael':'Rachel', 'allysyn':'Allysyn', 'allyson':'Allysyn','racheal':'Rachel', 'Racheal':'Rachel',\n",
    "                                          'rachel':'Rachel', 'Chi Chi':'Chichi', 'CHI CHI':'Chichi','BELLA':'Bella', 'DANIELLA':'Daniella', 'BRYANN':'Bryann','KHALID':'Khalid',\n",
    "                                          'PHYNA':'Phyna','ADEKUNLE':'Adekunle', 'HERMES':'Hermes', 'DOYIN':'Doyin', 'BEAUTY':'Beauty', 'AMAKA':'Amaka', 'GROOVY':'Groovy',\n",
    "                                          'ILEBAYE':'Ilebaye','KESS':'Kess', 'PHARMSAVI':'Pharmsavi','MODELLA':'Modella', 'CHIZZY':'Chizzy', 'DEJI':'Deji', 'CHOMZY':'Chomzy',\n",
    "                                          'ELOSWAG':'Eloswag','GIDDYFIA':'Giddyfia'})"
   ]
  },
  {
   "cell_type": "code",
   "execution_count": 38,
   "id": "bafbc43e",
   "metadata": {},
   "outputs": [
    {
     "data": {
      "text/plain": [
       "array(['Bella', 'Sheggz', 'Adekunle', nan, 'Ilebaye', 'Groovy', 'Hermes',\n",
       "       'Beauty', 'Bryann', 'Chichi', 'Phyna', 'Doyin', 'Khalid',\n",
       "       'Modella', 'Chomzy', 'Dotun', 'Rachel', 'Daniella', 'Chizzy',\n",
       "       'Cyph', 'Deji', 'Amaka', 'Allysyn', 'Eloswag', 'Diana',\n",
       "       'Pharmsavi', 'Christy O', 'Giddyfia', 'Kess'], dtype=object)"
      ]
     },
     "execution_count": 38,
     "metadata": {},
     "output_type": "execute_result"
    }
   ],
   "source": [
    "df['Housemate'].unique()"
   ]
  },
  {
   "cell_type": "code",
   "execution_count": 42,
   "id": "9619c1e2",
   "metadata": {},
   "outputs": [],
   "source": [
    "dd = ['retweet_count_y','favorite_count_y']\n",
    "df.drop(columns= dd, axis= 1, inplace= True)"
   ]
  },
  {
   "cell_type": "code",
   "execution_count": 43,
   "id": "7f98662e",
   "metadata": {},
   "outputs": [],
   "source": [
    "df.rename(columns={'retweet_count_x': 'retweet_count', 'favorite_count_x': 'favorite_count'}, inplace=True)"
   ]
  },
  {
   "cell_type": "code",
   "execution_count": 44,
   "id": "70008dcd",
   "metadata": {},
   "outputs": [],
   "source": [
    "df.to_csv('bbn_tweets.csv', index= False)"
   ]
  },
  {
   "cell_type": "code",
   "execution_count": null,
   "id": "2e97c550",
   "metadata": {},
   "outputs": [],
   "source": []
  }
 ],
 "metadata": {
  "kernelspec": {
   "display_name": "Python 3 (ipykernel)",
   "language": "python",
   "name": "python3"
  },
  "language_info": {
   "codemirror_mode": {
    "name": "ipython",
    "version": 3
   },
   "file_extension": ".py",
   "mimetype": "text/x-python",
   "name": "python",
   "nbconvert_exporter": "python",
   "pygments_lexer": "ipython3",
   "version": "3.9.12"
  }
 },
 "nbformat": 4,
 "nbformat_minor": 5
}
